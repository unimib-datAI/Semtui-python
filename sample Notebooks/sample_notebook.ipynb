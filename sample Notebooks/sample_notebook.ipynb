{
 "cells": [
  {
   "cell_type": "code",
   "execution_count": 1,
   "id": "fe2768dd-b86f-4276-8e43-40a4648a3b7f",
   "metadata": {},
   "outputs": [
    {
     "name": "stdout",
     "output_type": "stream",
     "text": [
      "/Users/abubakarialidu/myenv/bin/python\n"
     ]
    }
   ],
   "source": [
    "import sys\n",
    "print(sys.executable)"
   ]
  },
  {
   "cell_type": "code",
   "execution_count": 2,
   "id": "0ef56a21-a776-4ee8-a4ca-9c3439964af9",
   "metadata": {},
   "outputs": [
    {
     "name": "stdout",
     "output_type": "stream",
     "text": [
      "Collecting git+https://github.com/unimib-datAI/Semtui-python.git\n",
      "  Cloning https://github.com/unimib-datAI/Semtui-python.git to /private/var/folders/tj/464jl5ls75l9zfnpxmsx2lrh0000gn/T/pip-req-build-ffhp2241\n",
      "  Running command git clone --filter=blob:none --quiet https://github.com/unimib-datAI/Semtui-python.git /private/var/folders/tj/464jl5ls75l9zfnpxmsx2lrh0000gn/T/pip-req-build-ffhp2241\n",
      "  Resolved https://github.com/unimib-datAI/Semtui-python.git to commit eec0f5a143453ded97d1defba72e5d231e4d6e41\n",
      "  Preparing metadata (setup.py) ... \u001b[?25ldone\n",
      "\u001b[?25hBuilding wheels for collected packages: SemT_py\n",
      "  Building wheel for SemT_py (setup.py) ... \u001b[?25ldone\n",
      "\u001b[?25h  Created wheel for SemT_py: filename=SemT_py-0.1-py3-none-any.whl size=26582 sha256=b37097a97cf68d71aefa467e50da352bf95cf67488300477ad7991a88c70d03d\n",
      "  Stored in directory: /private/var/folders/tj/464jl5ls75l9zfnpxmsx2lrh0000gn/T/pip-ephem-wheel-cache-t4ujdt0m/wheels/10/38/30/bbae85fc19adafe32855f67e9acd24696a977575095e3af37f\n",
      "Successfully built SemT_py\n",
      "Installing collected packages: SemT_py\n",
      "  Attempting uninstall: SemT_py\n",
      "    Found existing installation: SemT_py 0.1\n",
      "    Uninstalling SemT_py-0.1:\n",
      "      Successfully uninstalled SemT_py-0.1\n",
      "Successfully installed SemT_py-0.1\n",
      "\n",
      "\u001b[1m[\u001b[0m\u001b[34;49mnotice\u001b[0m\u001b[1;39;49m]\u001b[0m\u001b[39;49m A new release of pip is available: \u001b[0m\u001b[31;49m24.1.1\u001b[0m\u001b[39;49m -> \u001b[0m\u001b[32;49m24.2\u001b[0m\n",
      "\u001b[1m[\u001b[0m\u001b[34;49mnotice\u001b[0m\u001b[1;39;49m]\u001b[0m\u001b[39;49m To update, run: \u001b[0m\u001b[32;49mpip install --upgrade pip\u001b[0m\n"
     ]
    }
   ],
   "source": [
    "!pip install --force-reinstall --no-deps --upgrade git+https://github.com/unimib-datAI/Semtui-python.git\n",
    "\n",
    "!pip install --upgrade --no-cache-dir git+https://github.com/unimib-datAI/Semtui-python.git"
   ]
  },
  {
   "cell_type": "code",
   "execution_count": 3,
   "id": "18d21aeb-1bdd-4d66-b630-93ca1c1fa4ba",
   "metadata": {},
   "outputs": [],
   "source": [
    "import os\n",
    "import json\n",
    "import numpy as np\n",
    "import pandas as pd\n",
    "\n",
    "# Set pandas display options\n",
    "\n",
    "pd.set_option('display.max_columns', None)  # Display all columns\n",
    "pd.set_option('display.max_rows', 20)  # Limit to 20 rows for display\n"
   ]
  },
  {
   "cell_type": "code",
   "execution_count": 4,
   "id": "8de7ef4e-24ef-4403-a0bd-c5ac54468f3a",
   "metadata": {},
   "outputs": [],
   "source": [
    "import SemT_py"
   ]
  },
  {
   "cell_type": "code",
   "execution_count": 6,
   "id": "52b08b7b-0e4e-403d-ab55-5bd4861564bb",
   "metadata": {},
   "outputs": [],
   "source": [
    "# Import necessary classes and functions from the SemT_py package\n",
    "from SemT_py.token_manager import TokenManager\n",
    "from SemT_py.extension_manager import ExtensionManager\n",
    "from SemT_py.reconciliation_manager import ReconciliationManager\n",
    "from SemT_py.utils import Utility\n",
    "from SemT_py.dataset_manager import DatasetManager\n",
    "from SemT_py.modification_manager import ModificationManager"
   ]
  },
  {
   "cell_type": "code",
   "execution_count": 9,
   "id": "74b5ae26-a54b-40d8-b4a8-2c4a1a3e2c95",
   "metadata": {},
   "outputs": [],
   "source": [
    "# Set up the API URL and credentials\n",
    "\n",
    "# Request credentials from inside.disco.unimib.it\n",
    "\n",
    "base_url = \"\"\n",
    "api_url = \"\"\n",
    "username = \"\"\n",
    "password = \"\"\n",
    "\n",
    "token_manager = TokenManager(api_url, username, password)\n",
    "# Get the token\n",
    "token = token_manager.get_token()\n",
    "utility = Utility(base_url, token_manager)"
   ]
  },
  {
   "cell_type": "code",
   "execution_count": null,
   "id": "8a1821a2",
   "metadata": {},
   "outputs": [],
   "source": [
    "# Example usage: select specific submodules or explore all\n",
    "submodules_to_explore = [\n",
    "    SemT_py.token_manager,\n",
    "    SemT_py.extension_manager,\n",
    "    SemT_py.reconciliation_manager\n",
    "]\n",
    "\n",
    "# Explore the selected submodules\n",
    "exploration_result = utility.explore_submodules(submodules_to_explore)\n",
    "\n",
    "# Optionally, print the structured output\n",
    "import pprint\n",
    "pprint.pprint(exploration_result)"
   ]
  },
  {
   "cell_type": "code",
   "execution_count": 10,
   "id": "d28567a8-4141-4070-a92b-ba38b0d2b085",
   "metadata": {},
   "outputs": [
    {
     "name": "stdout",
     "output_type": "stream",
     "text": [
      "Current working directory: /Users/abubakarialidu/myenv\n",
      "CSV file imported successfully!\n"
     ]
    },
    {
     "data": {
      "text/html": [
       "<div>\n",
       "<style scoped>\n",
       "    .dataframe tbody tr th:only-of-type {\n",
       "        vertical-align: middle;\n",
       "    }\n",
       "\n",
       "    .dataframe tbody tr th {\n",
       "        vertical-align: top;\n",
       "    }\n",
       "\n",
       "    .dataframe thead th {\n",
       "        text-align: right;\n",
       "    }\n",
       "</style>\n",
       "<table border=\"1\" class=\"dataframe\">\n",
       "  <thead>\n",
       "    <tr style=\"text-align: right;\">\n",
       "      <th></th>\n",
       "      <th>Fecha_id</th>\n",
       "      <th>Keyword</th>\n",
       "      <th>Impresiones</th>\n",
       "      <th>Clicks</th>\n",
       "      <th>City</th>\n",
       "      <th>County</th>\n",
       "      <th>Country</th>\n",
       "    </tr>\n",
       "  </thead>\n",
       "  <tbody>\n",
       "    <tr>\n",
       "      <th>0</th>\n",
       "      <td>20230101</td>\n",
       "      <td>alquiler pisos colindres</td>\n",
       "      <td>1</td>\n",
       "      <td>0</td>\n",
       "      <td>Madrid</td>\n",
       "      <td>Community of Madrid</td>\n",
       "      <td>Spain</td>\n",
       "    </tr>\n",
       "    <tr>\n",
       "      <th>1</th>\n",
       "      <td>20230101</td>\n",
       "      <td>alquiler pisos sestao</td>\n",
       "      <td>1</td>\n",
       "      <td>0</td>\n",
       "      <td>Barcelona</td>\n",
       "      <td>Catalonia</td>\n",
       "      <td>Spain</td>\n",
       "    </tr>\n",
       "    <tr>\n",
       "      <th>2</th>\n",
       "      <td>20230101</td>\n",
       "      <td>steelcraft pedal car</td>\n",
       "      <td>1</td>\n",
       "      <td>0</td>\n",
       "      <td>Buffalo</td>\n",
       "      <td>New York</td>\n",
       "      <td>United States</td>\n",
       "    </tr>\n",
       "  </tbody>\n",
       "</table>\n",
       "</div>"
      ],
      "text/plain": [
       "   Fecha_id                   Keyword  Impresiones  Clicks       City  \\\n",
       "0  20230101  alquiler pisos colindres            1       0     Madrid   \n",
       "1  20230101     alquiler pisos sestao            1       0  Barcelona   \n",
       "2  20230101      steelcraft pedal car            1       0    Buffalo   \n",
       "\n",
       "                County        Country  \n",
       "0  Community of Madrid          Spain  \n",
       "1            Catalonia          Spain  \n",
       "2             New York  United States  "
      ]
     },
     "metadata": {},
     "output_type": "display_data"
    }
   ],
   "source": [
    "# Get the current working directory\n",
    "cwd = os.getcwd()\n",
    "print(\"Current working directory:\", cwd)\n",
    "\n",
    "# Path to your CSV file\n",
    "csv_file_path = \"sample_table.csv\"   # Define the path to the CSV file\n",
    "\n",
    "\n",
    "# Read CSV data using DataManager\n",
    "try:\n",
    "    df = pd.read_csv(csv_file_path)  # Read the CSV file into a DataFrame using DataManager\n",
    "    print(\"CSV file imported successfully!\")  # Print success message\n",
    "    display(df.head())  # Display the first few rows of the DataFrame\n",
    "except Exception as e:\n",
    "    print(f\"Error importing CSV file: {e}\")  # Print error message if CSV import fails\n"
   ]
  },
  {
   "cell_type": "code",
   "execution_count": 12,
   "id": "fdfa6a10-0108-466a-a56e-22c979628796",
   "metadata": {},
   "outputs": [
    {
     "name": "stdout",
     "output_type": "stream",
     "text": [
      "DataFrame modification successful!\n"
     ]
    }
   ],
   "source": [
    "# Use DataModifier to modify the DataFrame\n",
    "try:\n",
    "    # Convert the 'Fecha_id' column to ISO date format\n",
    "    df = ModificationManager.iso_date(df, date_col='Fecha_id')\n",
    "    print(\"DataFrame modification successful!\")\n",
    "\n",
    "except ValueError as e:\n",
    "    print(e)"
   ]
  },
  {
   "cell_type": "code",
   "execution_count": 13,
   "id": "00e87a36",
   "metadata": {},
   "outputs": [
    {
     "data": {
      "text/html": [
       "<div>\n",
       "<style scoped>\n",
       "    .dataframe tbody tr th:only-of-type {\n",
       "        vertical-align: middle;\n",
       "    }\n",
       "\n",
       "    .dataframe tbody tr th {\n",
       "        vertical-align: top;\n",
       "    }\n",
       "\n",
       "    .dataframe thead th {\n",
       "        text-align: right;\n",
       "    }\n",
       "</style>\n",
       "<table border=\"1\" class=\"dataframe\">\n",
       "  <thead>\n",
       "    <tr style=\"text-align: right;\">\n",
       "      <th></th>\n",
       "      <th>Fecha_id</th>\n",
       "      <th>Keyword</th>\n",
       "      <th>Impresiones</th>\n",
       "      <th>Clicks</th>\n",
       "      <th>City</th>\n",
       "      <th>County</th>\n",
       "      <th>Country</th>\n",
       "    </tr>\n",
       "  </thead>\n",
       "  <tbody>\n",
       "    <tr>\n",
       "      <th>0</th>\n",
       "      <td>2023-01-01</td>\n",
       "      <td>alquiler pisos colindres</td>\n",
       "      <td>1</td>\n",
       "      <td>0</td>\n",
       "      <td>Madrid</td>\n",
       "      <td>Community of Madrid</td>\n",
       "      <td>Spain</td>\n",
       "    </tr>\n",
       "    <tr>\n",
       "      <th>1</th>\n",
       "      <td>2023-01-01</td>\n",
       "      <td>alquiler pisos sestao</td>\n",
       "      <td>1</td>\n",
       "      <td>0</td>\n",
       "      <td>Barcelona</td>\n",
       "      <td>Catalonia</td>\n",
       "      <td>Spain</td>\n",
       "    </tr>\n",
       "    <tr>\n",
       "      <th>2</th>\n",
       "      <td>2023-01-01</td>\n",
       "      <td>steelcraft pedal car</td>\n",
       "      <td>1</td>\n",
       "      <td>0</td>\n",
       "      <td>Buffalo</td>\n",
       "      <td>New York</td>\n",
       "      <td>United States</td>\n",
       "    </tr>\n",
       "  </tbody>\n",
       "</table>\n",
       "</div>"
      ],
      "text/plain": [
       "     Fecha_id                   Keyword  Impresiones  Clicks       City  \\\n",
       "0  2023-01-01  alquiler pisos colindres            1       0     Madrid   \n",
       "1  2023-01-01     alquiler pisos sestao            1       0  Barcelona   \n",
       "2  2023-01-01      steelcraft pedal car            1       0    Buffalo   \n",
       "\n",
       "                County        Country  \n",
       "0  Community of Madrid          Spain  \n",
       "1            Catalonia          Spain  \n",
       "2             New York  United States  "
      ]
     },
     "execution_count": 13,
     "metadata": {},
     "output_type": "execute_result"
    }
   ],
   "source": [
    "df"
   ]
  },
  {
   "cell_type": "code",
   "execution_count": 15,
   "id": "5d3f5d85",
   "metadata": {},
   "outputs": [
    {
     "name": "stdout",
     "output_type": "stream",
     "text": [
      "  id  userId                 name  nTables          lastModifiedDate\n",
      "0  4       0  Museums_correct-try        7  2024-04-27T18:54:00.810Z\n",
      "1  5       0             Tutorial       19  2024-06-17T17:32:50.388Z\n",
      "2  6       0     Tutorial Museums        4  2024-05-23T11:50:05.536Z\n",
      "3  7       0            All_Cases       27  2024-09-28T08:55:03.465Z\n"
     ]
    }
   ],
   "source": [
    "dataset_manager = DatasetManager(base_url, token_manager)\n",
    "\n",
    "# Get the list of datasets\n",
    "datasets_df = dataset_manager.get_database_list(debug=False)\n",
    "print(datasets_df)\n"
   ]
  },
  {
   "cell_type": "code",
   "execution_count": null,
   "id": "b7987946",
   "metadata": {},
   "outputs": [],
   "source": [
    "# Add the table to the dataset\n",
    "dataset_id = \"7\"  # Replace with the actual dataset ID\n",
    "try:\n",
    "    dataset_manager.list_tables_in_dataset(dataset_id) # Attempt to list the tables in the dataset\n",
    "except Exception as e:\n",
    "    print(f\"Error listing tables in dataset: {e}\")"
   ]
  },
  {
   "cell_type": "code",
   "execution_count": 17,
   "id": "050be750",
   "metadata": {},
   "outputs": [],
   "source": [
    "# Add the table to the dataset\n",
    "dataset_id = \"7\"  # Replace with the actual dataset ID\n",
    "table_name = \"New_Bucharest3\"  # Define the name of the new table to add\n"
   ]
  },
  {
   "cell_type": "code",
   "execution_count": null,
   "id": "ad6ced7c",
   "metadata": {},
   "outputs": [],
   "source": [
    "#success, table_id, meta_data = dataset_manager.add_table_to_dataset(dataset_id, df, table_name, debug=True)\n",
    "\n",
    "#if success:\n",
    "#    print(f\"Table '{table_name}' (ID: {table_id}) added to dataset ID {dataset_id} successfully.\")\n",
    "#else:\n",
    "#    print(f\"Error adding table to dataset: {meta_data['error']}\")\n",
    "\n",
    "#if debug:\n",
    "#    print(\"Debug Information:\")\n",
    "#    print(json.dumps(meta_data, indent=2))"
   ]
  },
  {
   "cell_type": "code",
   "execution_count": 18,
   "id": "4a033bc1",
   "metadata": {},
   "outputs": [
    {
     "name": "stdout",
     "output_type": "stream",
     "text": [
      "Table added successfully! New table added: ID: 230, Name: New_Bucharest3\n",
      "Table 'New_Bucharest3' added successfully with ID: 230\n"
     ]
    }
   ],
   "source": [
    "try:\n",
    "    # Attempt to add the DataFrame (df) as a table to the specified dataset\n",
    "    message, response_data = dataset_manager.add_table_to_dataset(dataset_id, df, table_name)\n",
    "    \n",
    "    # Print the success or failure message\n",
    "    print(message)\n",
    "    \n",
    "    # Extract the table ID if the addition was successful\n",
    "    if response_data:\n",
    "        table_id = dataset_manager.extract_table_id(response_data)\n",
    "        if table_id:\n",
    "            print(f\"Table '{table_name}' added successfully with ID: {table_id}\")\n",
    "        else:\n",
    "            print(\"Table ID could not be extracted from the response.\")\n",
    "    else:\n",
    "        print(\"No response data available. Table addition might have failed.\")\n",
    "\n",
    "except Exception as e:\n",
    "    print(f\"Error adding table to dataset: {e}\")  # Print the error message if an exception occurs"
   ]
  },
  {
   "cell_type": "code",
   "execution_count": 19,
   "id": "033ffacd-2334-4849-9881-c5a9f7dc0699",
   "metadata": {},
   "outputs": [
    {
     "data": {
      "text/plain": [
       "'230'"
      ]
     },
     "execution_count": 19,
     "metadata": {},
     "output_type": "execute_result"
    }
   ],
   "source": [
    "table_id"
   ]
  },
  {
   "cell_type": "code",
   "execution_count": 23,
   "id": "53259151",
   "metadata": {},
   "outputs": [
    {
     "name": "stdout",
     "output_type": "stream",
     "text": [
      "Table with id '230' retrieved successfully!\n"
     ]
    }
   ],
   "source": [
    "try:\n",
    "    table_data = dataset_manager.get_table_by_id(dataset_id, table_id)  # Attempt to retrieve the specified table from the dataset\n",
    "    if table_data:\n",
    "        print(f\"Table with id '{table_id}' retrieved successfully!\")  # Print success message if table is retrieved\n",
    "        # No need to display the DataFrame\n",
    "    else:\n",
    "        print(f\"Table with id '{table_id}' not found in the dataset.\")  # Print message if table is not found\n",
    "except Exception as e:\n",
    "    print(f\"Error retrieving table '{table_id}': {e}\")  # Print error message if retrieving the table fails\n"
   ]
  },
  {
   "cell_type": "code",
   "execution_count": 24,
   "id": "1585f366",
   "metadata": {},
   "outputs": [
    {
     "data": {
      "text/plain": [
       "{'table': {'id': '230',\n",
       "  'idDataset': '7',\n",
       "  'name': 'New_Bucharest3',\n",
       "  'nCols': 7,\n",
       "  'nRows': 3,\n",
       "  'nCells': 21,\n",
       "  'nCellsReconciliated': 0,\n",
       "  'lastModifiedDate': '2024-10-04T09:00:06.348Z'},\n",
       " 'columns': {'Fecha_id': {'id': 'Fecha_id',\n",
       "   'label': 'Fecha_id',\n",
       "   'status': 'empty',\n",
       "   'context': {},\n",
       "   'metadata': []},\n",
       "  'Keyword': {'id': 'Keyword',\n",
       "   'label': 'Keyword',\n",
       "   'status': 'empty',\n",
       "   'context': {},\n",
       "   'metadata': []},\n",
       "  'Impresiones': {'id': 'Impresiones',\n",
       "   'label': 'Impresiones',\n",
       "   'status': 'empty',\n",
       "   'context': {},\n",
       "   'metadata': []},\n",
       "  'Clicks': {'id': 'Clicks',\n",
       "   'label': 'Clicks',\n",
       "   'status': 'empty',\n",
       "   'context': {},\n",
       "   'metadata': []},\n",
       "  'City': {'id': 'City',\n",
       "   'label': 'City',\n",
       "   'status': 'empty',\n",
       "   'context': {},\n",
       "   'metadata': []},\n",
       "  'County': {'id': 'County',\n",
       "   'label': 'County',\n",
       "   'status': 'empty',\n",
       "   'context': {},\n",
       "   'metadata': []},\n",
       "  'Country': {'id': 'Country',\n",
       "   'label': 'Country',\n",
       "   'status': 'empty',\n",
       "   'context': {},\n",
       "   'metadata': []}},\n",
       " 'rows': {'r0': {'id': 'r0',\n",
       "   'cells': {'Fecha_id': {'id': 'r0$Fecha_id',\n",
       "     'label': '2023-01-01',\n",
       "     'metadata': []},\n",
       "    'Keyword': {'id': 'r0$Keyword',\n",
       "     'label': 'alquiler pisos colindres',\n",
       "     'metadata': []},\n",
       "    'Impresiones': {'id': 'r0$Impresiones', 'label': '1', 'metadata': []},\n",
       "    'Clicks': {'id': 'r0$Clicks', 'label': '0', 'metadata': []},\n",
       "    'City': {'id': 'r0$City', 'label': 'Madrid', 'metadata': []},\n",
       "    'County': {'id': 'r0$County',\n",
       "     'label': 'Community of Madrid',\n",
       "     'metadata': []},\n",
       "    'Country': {'id': 'r0$Country', 'label': 'Spain', 'metadata': []}}},\n",
       "  'r1': {'id': 'r1',\n",
       "   'cells': {'Fecha_id': {'id': 'r1$Fecha_id',\n",
       "     'label': '2023-01-01',\n",
       "     'metadata': []},\n",
       "    'Keyword': {'id': 'r1$Keyword',\n",
       "     'label': 'alquiler pisos sestao',\n",
       "     'metadata': []},\n",
       "    'Impresiones': {'id': 'r1$Impresiones', 'label': '1', 'metadata': []},\n",
       "    'Clicks': {'id': 'r1$Clicks', 'label': '0', 'metadata': []},\n",
       "    'City': {'id': 'r1$City', 'label': 'Barcelona', 'metadata': []},\n",
       "    'County': {'id': 'r1$County', 'label': 'Catalonia', 'metadata': []},\n",
       "    'Country': {'id': 'r1$Country', 'label': 'Spain', 'metadata': []}}},\n",
       "  'r2': {'id': 'r2',\n",
       "   'cells': {'Fecha_id': {'id': 'r2$Fecha_id',\n",
       "     'label': '2023-01-01',\n",
       "     'metadata': []},\n",
       "    'Keyword': {'id': 'r2$Keyword',\n",
       "     'label': 'steelcraft pedal car',\n",
       "     'metadata': []},\n",
       "    'Impresiones': {'id': 'r2$Impresiones', 'label': '1', 'metadata': []},\n",
       "    'Clicks': {'id': 'r2$Clicks', 'label': '0', 'metadata': []},\n",
       "    'City': {'id': 'r2$City', 'label': 'Buffalo', 'metadata': []},\n",
       "    'County': {'id': 'r2$County', 'label': 'New York', 'metadata': []},\n",
       "    'Country': {'id': 'r2$Country',\n",
       "     'label': 'United States',\n",
       "     'metadata': []}}}},\n",
       " 'id': '230'}"
      ]
     },
     "execution_count": 24,
     "metadata": {},
     "output_type": "execute_result"
    }
   ],
   "source": [
    "utility.display_json_table(table_data, number_of_rows=2, labels=['City'])"
   ]
  },
  {
   "cell_type": "markdown",
   "id": "bfc9b7b9",
   "metadata": {},
   "source": [
    "## Reconcilition"
   ]
  },
  {
   "cell_type": "code",
   "execution_count": 25,
   "id": "ce55f432",
   "metadata": {},
   "outputs": [
    {
     "data": {
      "text/html": [
       "<div>\n",
       "<style scoped>\n",
       "    .dataframe tbody tr th:only-of-type {\n",
       "        vertical-align: middle;\n",
       "    }\n",
       "\n",
       "    .dataframe tbody tr th {\n",
       "        vertical-align: top;\n",
       "    }\n",
       "\n",
       "    .dataframe thead th {\n",
       "        text-align: right;\n",
       "    }\n",
       "</style>\n",
       "<table border=\"1\" class=\"dataframe\">\n",
       "  <thead>\n",
       "    <tr style=\"text-align: right;\">\n",
       "      <th></th>\n",
       "      <th>id</th>\n",
       "      <th>relativeUrl</th>\n",
       "      <th>name</th>\n",
       "    </tr>\n",
       "  </thead>\n",
       "  <tbody>\n",
       "    <tr>\n",
       "      <th>0</th>\n",
       "      <td>geocodingGeonames</td>\n",
       "      <td>/dataset</td>\n",
       "      <td>Geocoding: geo coordinates (GeoNames)</td>\n",
       "    </tr>\n",
       "    <tr>\n",
       "      <th>1</th>\n",
       "      <td>geocodingHere</td>\n",
       "      <td>/here</td>\n",
       "      <td>Geocoding: geo coordinates (HERE)</td>\n",
       "    </tr>\n",
       "    <tr>\n",
       "      <th>2</th>\n",
       "      <td>geonames</td>\n",
       "      <td>/dataset</td>\n",
       "      <td>Linking: GeoNames (GeoNames)</td>\n",
       "    </tr>\n",
       "    <tr>\n",
       "      <th>3</th>\n",
       "      <td>wikidataAlligator</td>\n",
       "      <td>/dataset</td>\n",
       "      <td>Linking: Wikidata (Alligator)</td>\n",
       "    </tr>\n",
       "    <tr>\n",
       "      <th>4</th>\n",
       "      <td>wikidataOpenRefine</td>\n",
       "      <td>/wikidata</td>\n",
       "      <td>Linking: Wikidata (OpenRefine)</td>\n",
       "    </tr>\n",
       "  </tbody>\n",
       "</table>\n",
       "</div>"
      ],
      "text/plain": [
       "                   id relativeUrl                                   name\n",
       "0   geocodingGeonames    /dataset  Geocoding: geo coordinates (GeoNames)\n",
       "1       geocodingHere       /here      Geocoding: geo coordinates (HERE)\n",
       "2            geonames    /dataset           Linking: GeoNames (GeoNames)\n",
       "3   wikidataAlligator    /dataset          Linking: Wikidata (Alligator)\n",
       "4  wikidataOpenRefine   /wikidata         Linking: Wikidata (OpenRefine)"
      ]
     },
     "metadata": {},
     "output_type": "display_data"
    }
   ],
   "source": [
    "# Test get_reconciliators_list\n",
    "reconciliation_manager = ReconciliationManager(base_url, token_manager)\n",
    "reconciliators_list = reconciliation_manager.get_reconciliators_list(debug=False)\n",
    "\n",
    "if not reconciliators_list.empty:\n",
    "    display(reconciliators_list.head())\n",
    "else:\n",
    "    print(\"No reconciliators data available.\")"
   ]
  },
  {
   "cell_type": "code",
   "execution_count": 27,
   "id": "589da70e",
   "metadata": {},
   "outputs": [
    {
     "name": "stdout",
     "output_type": "stream",
     "text": [
      "\n",
      "Parameters for reconciliator 'geocodingHere':\n",
      "\n",
      "Mandatory parameters:\n",
      "- table (json): Mandatory\n",
      "  Description: The table data in JSON format\n",
      "- columnName (string): Mandatory\n",
      "  Description: The name of the column to reconcile\n",
      "- idReconciliator (string): Mandatory\n",
      "  Description: The ID of the reconciliator to use\n",
      "\n",
      "Optional parameters:\n",
      "- secondPart (selectColumns): Optional\n",
      "  Description: Optional column to add information to support reconciliation.\n",
      "  Label: Select a column with information about the location to reconcile\n",
      "  Info Text: \n",
      "- thirdPart (selectColumns): Optional\n",
      "  Description: Optional column to add information to support reconciliation.\n",
      "  Label: Select a column with information about the location to reconcile\n",
      "  Info Text: \n",
      "- fourthPart (selectColumns): Optional\n",
      "  Description: Optional column to add information to support reconciliation.\n",
      "  Label: Select a column with information about the location to reconcile\n",
      "  Info Text: \n",
      "Parameters for reconciliator 'geocodingHere' retrieved successfully!\n"
     ]
    }
   ],
   "source": [
    "# Test get_reconciler_parameters\n",
    "reconciliator_id = \"geocodingHere\"  # Replace with the actual reconciliator ID\n",
    "\n",
    "# Get the reconciliator parameters\n",
    "try:\n",
    "    params = reconciliation_manager.get_reconciliator_parameters(id_reconciliator=reconciliator_id, debug=False)  # Attempt to retrieve parameters\n",
    "    if params:\n",
    "        print(f\"Parameters for reconciliator '{reconciliator_id}' retrieved successfully!\")  # Print success message\n",
    "    else:\n",
    "        print(f\"Failed to retrieve parameters for reconciliator '{reconciliator_id}'.\")  # Print failure message if retrieval fails\n",
    "except Exception as e:\n",
    "    print(f\"Error retrieving parameters for reconciliator '{reconciliator_id}': {e}\")  # Print error message if retrieving parameters fails"
   ]
  },
  {
   "cell_type": "code",
   "execution_count": 28,
   "id": "a9d5dc54",
   "metadata": {},
   "outputs": [
    {
     "name": "stdout",
     "output_type": "stream",
     "text": [
      "Column reconciled successfully and backend payload created!\n"
     ]
    }
   ],
   "source": [
    "column_name = \"City\"\n",
    "reconciliator_id = \"geocodingHere\"\n",
    "optional_columns = ['County', 'Country']\n",
    "\n",
    "try:\n",
    "    reconciled_table, backend_payload = reconciliation_manager.reconcile(\n",
    "        table_data,\n",
    "        column_name,\n",
    "        reconciliator_id,\n",
    "        optional_columns\n",
    "    )\n",
    "    if reconciled_table and backend_payload:\n",
    "        print(\"Column reconciled successfully and backend payload created!\")\n",
    "        #print(\"Final Payload:\")\n",
    "        #print(json.dumps(reconciled_table, indent=2))\n",
    "        #print(\"Backend Payload:\")\n",
    "        #print(json.dumps(backend_payload, indent=2))\n",
    "    else:\n",
    "        print(\"Failed to reconcile column or create backend payload.\")\n",
    "except Exception as e:\n",
    "    print(f\"Error during reconciliation process: {e}\")"
   ]
  },
  {
   "cell_type": "code",
   "execution_count": null,
   "id": "fa06420d",
   "metadata": {},
   "outputs": [],
   "source": [
    "utility.display_json_table(reconciled_table, number_of_rows=2, labels=['City'])"
   ]
  },
  {
   "cell_type": "code",
   "execution_count": 29,
   "id": "78a9a486",
   "metadata": {},
   "outputs": [],
   "source": [
    "utility = Utility(base_url, token_manager=token_manager)"
   ]
  },
  {
   "cell_type": "code",
   "execution_count": 30,
   "id": "1be4ab6e",
   "metadata": {},
   "outputs": [
    {
     "name": "stdout",
     "output_type": "stream",
     "text": [
      "Updated Table successfully pushed to backend for table 230 in dataset 7\n"
     ]
    }
   ],
   "source": [
    "# Push to backend\n",
    "\n",
    "payload=backend_payload\n",
    "\n",
    "successMessage, sentPayload = utility.push_to_backend(\n",
    "    dataset_id,\n",
    "    table_id,\n",
    "    payload,\n",
    "    debug=False\n",
    ")\n",
    "\n",
    "print(successMessage)"
   ]
  },
  {
   "cell_type": "markdown",
   "id": "e59b83d1",
   "metadata": {},
   "source": [
    "## Open Meteo Extension"
   ]
  },
  {
   "cell_type": "code",
   "execution_count": 31,
   "id": "3d86178a",
   "metadata": {},
   "outputs": [
    {
     "name": "stdout",
     "output_type": "stream",
     "text": [
      "Extenders retrieved successfully!\n"
     ]
    },
    {
     "data": {
      "text/html": [
       "<div>\n",
       "<style scoped>\n",
       "    .dataframe tbody tr th:only-of-type {\n",
       "        vertical-align: middle;\n",
       "    }\n",
       "\n",
       "    .dataframe tbody tr th {\n",
       "        vertical-align: top;\n",
       "    }\n",
       "\n",
       "    .dataframe thead th {\n",
       "        text-align: right;\n",
       "    }\n",
       "</style>\n",
       "<table border=\"1\" class=\"dataframe\">\n",
       "  <thead>\n",
       "    <tr style=\"text-align: right;\">\n",
       "      <th></th>\n",
       "      <th>id</th>\n",
       "      <th>relativeUrl</th>\n",
       "      <th>name</th>\n",
       "    </tr>\n",
       "  </thead>\n",
       "  <tbody>\n",
       "    <tr>\n",
       "      <th>0</th>\n",
       "      <td>geoPropertiesWikidata</td>\n",
       "      <td>/wikidata/entities</td>\n",
       "      <td>Geo Properties (Wikidata)</td>\n",
       "    </tr>\n",
       "    <tr>\n",
       "      <th>1</th>\n",
       "      <td>geoRouteHere</td>\n",
       "      <td></td>\n",
       "      <td>Geo Route (HERE)</td>\n",
       "    </tr>\n",
       "    <tr>\n",
       "      <th>2</th>\n",
       "      <td>meteoPropertiesOpenMeteo</td>\n",
       "      <td></td>\n",
       "      <td>Meteo Properties (OpenMeteo)</td>\n",
       "    </tr>\n",
       "    <tr>\n",
       "      <th>3</th>\n",
       "      <td>reconciledColumnExt</td>\n",
       "      <td></td>\n",
       "      <td>Annotation properties</td>\n",
       "    </tr>\n",
       "    <tr>\n",
       "      <th>4</th>\n",
       "      <td>reconciledColumnExtWikidata</td>\n",
       "      <td>/entity/labels</td>\n",
       "      <td>Annotation properties (Wikidata)</td>\n",
       "    </tr>\n",
       "  </tbody>\n",
       "</table>\n",
       "</div>"
      ],
      "text/plain": [
       "                            id         relativeUrl  \\\n",
       "0        geoPropertiesWikidata  /wikidata/entities   \n",
       "1                 geoRouteHere                       \n",
       "2     meteoPropertiesOpenMeteo                       \n",
       "3          reconciledColumnExt                       \n",
       "4  reconciledColumnExtWikidata      /entity/labels   \n",
       "\n",
       "                               name  \n",
       "0         Geo Properties (Wikidata)  \n",
       "1                  Geo Route (HERE)  \n",
       "2      Meteo Properties (OpenMeteo)  \n",
       "3             Annotation properties  \n",
       "4  Annotation properties (Wikidata)  "
      ]
     },
     "metadata": {},
     "output_type": "display_data"
    }
   ],
   "source": [
    "# Get Extender List\n",
    "# Initialize ExtensionManager\n",
    "\n",
    "extension_manager = ExtensionManager(base_url, token)  # Create an instance of ExtensionManager with API URL and token\n",
    "\n",
    "try:\n",
    "    extenders_list = extension_manager.get_extenders_list(debug=False)  # Attempt to retrieve the list of extenders\n",
    "    if extenders_list is not None:\n",
    "        print(\"Extenders retrieved successfully!\")  # Print success message\n",
    "        display(extenders_list.head())  # Display the first few rows of the DataFrame\n",
    "    else:\n",
    "        print(\"Failed to retrieve extenders.\")  # Print failure message if no extenders are retrieved\n",
    "except Exception as e:\n",
    "    print(f\"Error retrieving extenders: {e}\")  # Print error message if retrieving extenders fails"
   ]
  },
  {
   "cell_type": "code",
   "execution_count": 36,
   "id": "20e9ee74",
   "metadata": {},
   "outputs": [
    {
     "name": "stdout",
     "output_type": "stream",
     "text": [
      "Parameters for extender 'meteoPropertiesOpenMeteo':\n",
      "\n",
      "Mandatory parameters:\n",
      "- dates (selectColumns): Mandatory\n",
      "  Description: Select a column with the days on which to retrieve the weather data:\n",
      "  Label: Select a column with days in ISO8601 format (yyyy-mm-dd)\n",
      "  Info Text: Only dates prior to 10 days are covered (ISO8601 format yyyy-mm-dd)\n",
      "  Options: []\n",
      "\n",
      "- weatherParams (checkbox): Mandatory\n",
      "  Description: Select one or more <b>weather</b> parameters:\n",
      "  Label: Weather parameters\n",
      "  Info Text: Meteo parameters to extend the table\n",
      "  Options: [{'id': 'daylight_duration', 'label': 'Number of seconds of daylight', 'value': 'daylight_duration'}, {'id': 'light_hours', 'label': 'Sun rise and set times UTC in ISO8601', 'value': 'light_hours'}, {'id': 'apparent_temperature_max', 'label': 'Maximum daily temperature in °C', 'value': 'apparent_temperature_max'}, {'id': 'apparent_temperature_min', 'label': 'Minimum daily temperature in °C', 'value': 'apparent_temperature_min'}, {'id': 'precipitation_sum', 'label': 'Sum of daily precipitation (including rain, showers and snowfall) in mm', 'value': 'precipitation_sum'}, {'id': 'precipitation_hours', 'label': 'The number of hours with rain', 'value': 'precipitation_hours'}]\n",
      "\n",
      "Optional parameters:\n",
      "- decimalFormat (checkbox): Optional\n",
      "  Description: Select to change the default period notation (e.g., 12.3):\n",
      "  Label: Decimal format\n",
      "  Info Text: \n",
      "  Options: [{'id': 'format', 'label': 'Use comma as decimal separator (e.g., 12,3)', 'value': 'comma'}]\n",
      "\n",
      "Options for 'meteoPropertiesOpenMeteo':\n",
      "  - weatherParams: ['daylight_duration', 'light_hours', 'apparent_temperature_max', 'apparent_temperature_min', 'precipitation_sum', 'precipitation_hours']\n",
      "  - decimalFormat: ['format']\n"
     ]
    },
    {
     "data": {
      "text/plain": [
       "{'parameters': {'mandatory': {'dates': {'type': 'selectColumns',\n",
       "    'mandatory': True,\n",
       "    'description': 'Select a column with the days on which to retrieve the weather data:',\n",
       "    'label': 'Select a column with days in ISO8601 format (yyyy-mm-dd)',\n",
       "    'infoText': 'Only dates prior to 10 days are covered (ISO8601 format yyyy-mm-dd)',\n",
       "    'options': []},\n",
       "   'weatherParams': {'type': 'checkbox',\n",
       "    'mandatory': True,\n",
       "    'description': 'Select one or more <b>weather</b> parameters:',\n",
       "    'label': 'Weather parameters',\n",
       "    'infoText': 'Meteo parameters to extend the table',\n",
       "    'options': [{'id': 'daylight_duration',\n",
       "      'label': 'Number of seconds of daylight',\n",
       "      'value': 'daylight_duration'},\n",
       "     {'id': 'light_hours',\n",
       "      'label': 'Sun rise and set times UTC in ISO8601',\n",
       "      'value': 'light_hours'},\n",
       "     {'id': 'apparent_temperature_max',\n",
       "      'label': 'Maximum daily temperature in °C',\n",
       "      'value': 'apparent_temperature_max'},\n",
       "     {'id': 'apparent_temperature_min',\n",
       "      'label': 'Minimum daily temperature in °C',\n",
       "      'value': 'apparent_temperature_min'},\n",
       "     {'id': 'precipitation_sum',\n",
       "      'label': 'Sum of daily precipitation (including rain, showers and snowfall) in mm',\n",
       "      'value': 'precipitation_sum'},\n",
       "     {'id': 'precipitation_hours',\n",
       "      'label': 'The number of hours with rain',\n",
       "      'value': 'precipitation_hours'}]}},\n",
       "  'optional': {'decimalFormat': {'type': 'checkbox',\n",
       "    'mandatory': False,\n",
       "    'description': 'Select to change the default period notation (e.g., 12.3):',\n",
       "    'label': 'Decimal format',\n",
       "    'infoText': '',\n",
       "    'options': [{'id': 'format',\n",
       "      'label': 'Use comma as decimal separator (e.g., 12,3)',\n",
       "      'value': 'comma'}]}}},\n",
       " 'options': {'weatherParams': ['daylight_duration',\n",
       "   'light_hours',\n",
       "   'apparent_temperature_max',\n",
       "   'apparent_temperature_min',\n",
       "   'precipitation_sum',\n",
       "   'precipitation_hours'],\n",
       "  'decimalFormat': ['format']}}"
      ]
     },
     "execution_count": 36,
     "metadata": {},
     "output_type": "execute_result"
    }
   ],
   "source": [
    "# Test get_extender_parameters\n",
    "extender_id = \"meteoPropertiesOpenMeteo\"  # Replace with the actual extender ID\n",
    "\n",
    "extension_manager.get_extender_details(extender_id, print_details=True)"
   ]
  },
  {
   "cell_type": "code",
   "execution_count": 41,
   "id": "c9915768",
   "metadata": {},
   "outputs": [
    {
     "name": "stdout",
     "output_type": "stream",
     "text": [
      "Column extended successfully!\n"
     ]
    }
   ],
   "source": [
    "\n",
    "# Call for meteoPropertiesOpenMeteo\n",
    "meteo_extended_table, meteo_extension_payload = extension_manager.extend_column(\n",
    "    table=reconciled_table,\n",
    "    column_name='City',\n",
    "    extender_id=\"meteoPropertiesOpenMeteo\",\n",
    "    properties=['apparent_temperature_max', 'apparent_temperature_min', 'precipitation_sum', 'precipitation_hours'],\n",
    "    other_params={\n",
    "        'date_column_name': \"Fecha_id\",\n",
    "        'decimal_format': \"comma\"\n",
    "    })\n"
   ]
  },
  {
   "cell_type": "code",
   "execution_count": 42,
   "id": "8d9644bd",
   "metadata": {},
   "outputs": [
    {
     "name": "stdout",
     "output_type": "stream",
     "text": [
      "Updated Table successfully pushed to backend for table 230 in dataset 7\n"
     ]
    }
   ],
   "source": [
    "# Push to backend\n",
    "payload=meteo_extension_payload\n",
    "\n",
    "successMessage, sentPayload = utility.push_to_backend(\n",
    "    dataset_id,\n",
    "    table_id,\n",
    "    payload,\n",
    "    debug=False\n",
    ")\n",
    "\n",
    "print(successMessage)"
   ]
  },
  {
   "cell_type": "markdown",
   "id": "fa5bc429",
   "metadata": {},
   "source": [
    "## Column Extension"
   ]
  },
  {
   "cell_type": "code",
   "execution_count": 43,
   "id": "e5fd6255",
   "metadata": {},
   "outputs": [
    {
     "name": "stdout",
     "output_type": "stream",
     "text": [
      "Column extended successfully!\n"
     ]
    }
   ],
   "source": [
    "reconciled_extended_table, reconciled_backend_payload = extension_manager.extend_column(\n",
    "    table=meteo_extended_table,\n",
    "    column_name='City',\n",
    "    extender_id='reconciledColumnExt',\n",
    "    properties=['id', 'name'],\n",
    "    other_params={}  # Empty dictionary for reconciledColumnExt\n",
    ")"
   ]
  },
  {
   "cell_type": "code",
   "execution_count": 45,
   "id": "3b86fe92",
   "metadata": {},
   "outputs": [
    {
     "name": "stdout",
     "output_type": "stream",
     "text": [
      "Updated Table successfully pushed to backend for table 230 in dataset 7\n"
     ]
    }
   ],
   "source": [
    "# Push to backend\n",
    "payload=reconciled_backend_payload\n",
    "\n",
    "successMessage, sentPayload = utility.push_to_backend(\n",
    "    dataset_id,\n",
    "    table_id,\n",
    "    payload,\n",
    "    debug=False\n",
    ")\n",
    "\n",
    "print(successMessage)"
   ]
  },
  {
   "cell_type": "markdown",
   "id": "1eadcd95",
   "metadata": {},
   "source": [
    "## download Extended data"
   ]
  },
  {
   "cell_type": "code",
   "execution_count": 46,
   "id": "abe76fa6",
   "metadata": {},
   "outputs": [
    {
     "name": "stdout",
     "output_type": "stream",
     "text": [
      "CSV file has been downloaded successfully and saved as JoT_Bucharest_test3.csv\n"
     ]
    }
   ],
   "source": [
    "# File name is data.csv, if a name is not supplied\n",
    "\n",
    "#downloaded_file = utility.download_csv(dataset_id, table_id)\n",
    "\n",
    "downloaded_file = utility.download_csv(dataset_id, table_id, output_file=\"JoT_Bucharest_test3.csv\")"
   ]
  },
  {
   "cell_type": "code",
   "execution_count": 47,
   "id": "bbadacfa-6007-4bd7-9e7c-ddaaa908c26b",
   "metadata": {},
   "outputs": [
    {
     "name": "stdout",
     "output_type": "stream",
     "text": [
      "W3C JSON file has been downloaded successfully and saved as downloaded_data.json\n",
      "Downloaded file saved as: downloaded_data.json\n"
     ]
    }
   ],
   "source": [
    "try:\n",
    "    downloaded_file = utility.download_json(dataset_id, table_id, output_file=\"downloaded_data.json\")\n",
    "    print(f\"Downloaded file saved as: {downloaded_file}\")\n",
    "except Exception as e:\n",
    "    print(f\"Error downloading the JSON file: {e}\")"
   ]
  },
  {
   "cell_type": "code",
   "execution_count": null,
   "id": "0d144def-ab45-40e2-991d-fa15ce19558b",
   "metadata": {},
   "outputs": [],
   "source": []
  }
 ],
 "metadata": {
  "kernelspec": {
   "display_name": "Python (myenv)",
   "language": "python",
   "name": "myenv"
  },
  "language_info": {
   "codemirror_mode": {
    "name": "ipython",
    "version": 3
   },
   "file_extension": ".py",
   "mimetype": "text/x-python",
   "name": "python",
   "nbconvert_exporter": "python",
   "pygments_lexer": "ipython3",
   "version": "3.10.12"
  }
 },
 "nbformat": 4,
 "nbformat_minor": 5
}
